{
 "cells": [
  {
   "cell_type": "code",
   "execution_count": 1,
   "id": "e9f2680d-6182-481e-8c4c-56039685b3b1",
   "metadata": {},
   "outputs": [
    {
     "name": "stderr",
     "output_type": "stream",
     "text": [
      "/Users/gouttham/FP/LISA/env/lib/python3.9/site-packages/tqdm/auto.py:21: TqdmWarning: IProgress not found. Please update jupyter and ipywidgets. See https://ipywidgets.readthedocs.io/en/stable/user_install.html\n",
      "  from .autonotebook import tqdm as notebook_tqdm\n"
     ]
    }
   ],
   "source": [
    "import torch\n",
    "from attention_utils import cross_attention"
   ]
  },
  {
   "cell_type": "code",
   "execution_count": 2,
   "id": "ac27fdc7-8c72-496c-97a4-4d96ffbc32f5",
   "metadata": {},
   "outputs": [],
   "source": [
    "img1 = torch.ones((1,256,64,64))\n",
    "img2 = torch.ones((1,256,64,64))"
   ]
  },
  {
   "cell_type": "code",
   "execution_count": 3,
   "id": "54a90b06-1d13-4b7e-9c6a-a9d26024171e",
   "metadata": {},
   "outputs": [],
   "source": [
    "att = cross_attention()"
   ]
  },
  {
   "cell_type": "code",
   "execution_count": 4,
   "id": "3f6ece5b-3411-4436-81a0-d236a12da897",
   "metadata": {},
   "outputs": [
    {
     "data": {
      "text/plain": [
       "torch.Size([1, 256, 64, 64])"
      ]
     },
     "execution_count": 4,
     "metadata": {},
     "output_type": "execute_result"
    }
   ],
   "source": [
    "att.forward(img1,img2).shape"
   ]
  },
  {
   "cell_type": "code",
   "execution_count": null,
   "id": "d96d2fdb-9eb5-4e30-a0fb-cc3726fa87cf",
   "metadata": {},
   "outputs": [],
   "source": []
  },
  {
   "cell_type": "code",
   "execution_count": null,
   "id": "36be3b1f-383a-46f2-b60d-471ca65649eb",
   "metadata": {},
   "outputs": [],
   "source": []
  }
 ],
 "metadata": {
  "kernelspec": {
   "display_name": "lisa",
   "language": "python",
   "name": "lisa"
  },
  "language_info": {
   "codemirror_mode": {
    "name": "ipython",
    "version": 3
   },
   "file_extension": ".py",
   "mimetype": "text/x-python",
   "name": "python",
   "nbconvert_exporter": "python",
   "pygments_lexer": "ipython3",
   "version": "3.9.6"
  }
 },
 "nbformat": 4,
 "nbformat_minor": 5
}
